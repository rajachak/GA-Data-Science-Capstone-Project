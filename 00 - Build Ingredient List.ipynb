{
 "cells": [
  {
   "cell_type": "code",
   "execution_count": 3,
   "metadata": {
    "collapsed": true
   },
   "outputs": [],
   "source": [
    "import numpy as np\n",
    "import pandas as pd\n",
    "import json\n",
    "import urllib\n",
    "import requests\n",
    "import re\n",
    "import matplotlib.pyplot as plt\n",
    "import requests\n",
    "from pandas.io.json import json_normalize\n",
    "from bs4 import BeautifulSoup\n",
    "import requests\n",
    "from pprint import pprint\n",
    "import json\n",
    "import ast\n",
    "import pickle\n",
    "%matplotlib inline"
   ]
  },
  {
   "cell_type": "markdown",
   "metadata": {},
   "source": [
    "## 1. Read Data, perform EDA\n",
    "file: recipes.json   \n",
    "form the website Yummly\n"
   ]
  },
  {
   "cell_type": "code",
   "execution_count": 4,
   "metadata": {
    "collapsed": true
   },
   "outputs": [],
   "source": [
    "df = pd.read_json('recipes.json')"
   ]
  },
  {
   "cell_type": "markdown",
   "metadata": {},
   "source": [
    "Take a first look at the data; check for nulls "
   ]
  },
  {
   "cell_type": "code",
   "execution_count": 38,
   "metadata": {},
   "outputs": [
    {
     "data": {
      "text/html": [
       "<div>\n",
       "<style>\n",
       "    .dataframe thead tr:only-child th {\n",
       "        text-align: right;\n",
       "    }\n",
       "\n",
       "    .dataframe thead th {\n",
       "        text-align: left;\n",
       "    }\n",
       "\n",
       "    .dataframe tbody tr th {\n",
       "        vertical-align: top;\n",
       "    }\n",
       "</style>\n",
       "<table border=\"1\" class=\"dataframe\">\n",
       "  <thead>\n",
       "    <tr style=\"text-align: right;\">\n",
       "      <th></th>\n",
       "      <th>cuisine</th>\n",
       "      <th>id</th>\n",
       "      <th>ingredients</th>\n",
       "    </tr>\n",
       "  </thead>\n",
       "  <tbody>\n",
       "    <tr>\n",
       "      <th>0</th>\n",
       "      <td>greek</td>\n",
       "      <td>10259</td>\n",
       "      <td>[romaine lettuce, black olives, grape tomatoes...</td>\n",
       "    </tr>\n",
       "    <tr>\n",
       "      <th>1</th>\n",
       "      <td>southern_us</td>\n",
       "      <td>25693</td>\n",
       "      <td>[plain flour, ground pepper, salt, tomatoes, g...</td>\n",
       "    </tr>\n",
       "    <tr>\n",
       "      <th>2</th>\n",
       "      <td>filipino</td>\n",
       "      <td>20130</td>\n",
       "      <td>[eggs, pepper, salt, mayonaise, cooking oil, g...</td>\n",
       "    </tr>\n",
       "    <tr>\n",
       "      <th>3</th>\n",
       "      <td>indian</td>\n",
       "      <td>22213</td>\n",
       "      <td>[water, vegetable oil, wheat, salt]</td>\n",
       "    </tr>\n",
       "    <tr>\n",
       "      <th>4</th>\n",
       "      <td>indian</td>\n",
       "      <td>13162</td>\n",
       "      <td>[black pepper, shallots, cornflour, cayenne pe...</td>\n",
       "    </tr>\n",
       "  </tbody>\n",
       "</table>\n",
       "</div>"
      ],
      "text/plain": [
       "       cuisine     id                                        ingredients\n",
       "0        greek  10259  [romaine lettuce, black olives, grape tomatoes...\n",
       "1  southern_us  25693  [plain flour, ground pepper, salt, tomatoes, g...\n",
       "2     filipino  20130  [eggs, pepper, salt, mayonaise, cooking oil, g...\n",
       "3       indian  22213                [water, vegetable oil, wheat, salt]\n",
       "4       indian  13162  [black pepper, shallots, cornflour, cayenne pe..."
      ]
     },
     "execution_count": 38,
     "metadata": {},
     "output_type": "execute_result"
    }
   ],
   "source": [
    "df.head()"
   ]
  },
  {
   "cell_type": "code",
   "execution_count": 39,
   "metadata": {},
   "outputs": [
    {
     "data": {
      "text/plain": [
       "(39774, 3)"
      ]
     },
     "execution_count": 39,
     "metadata": {},
     "output_type": "execute_result"
    }
   ],
   "source": [
    "df.shape"
   ]
  },
  {
   "cell_type": "code",
   "execution_count": 40,
   "metadata": {},
   "outputs": [
    {
     "name": "stdout",
     "output_type": "stream",
     "text": [
      "cuisine        0\n",
      "id             0\n",
      "ingredients    0\n",
      "dtype: int64\n"
     ]
    }
   ],
   "source": [
    "print((df.isnull().sum()))"
   ]
  },
  {
   "cell_type": "code",
   "execution_count": 43,
   "metadata": {},
   "outputs": [
    {
     "data": {
      "text/plain": [
       "(39774, 3)"
      ]
     },
     "execution_count": 43,
     "metadata": {},
     "output_type": "execute_result"
    }
   ],
   "source": [
    "df.shape"
   ]
  },
  {
   "cell_type": "code",
   "execution_count": 5,
   "metadata": {},
   "outputs": [
    {
     "data": {
      "text/plain": [
       "italian         7838\n",
       "mexican         6438\n",
       "southern_us     4320\n",
       "indian          3003\n",
       "chinese         2673\n",
       "french          2646\n",
       "cajun_creole    1546\n",
       "thai            1539\n",
       "japanese        1423\n",
       "greek           1175\n",
       "spanish          989\n",
       "korean           830\n",
       "vietnamese       825\n",
       "moroccan         821\n",
       "british          804\n",
       "filipino         755\n",
       "irish            667\n",
       "jamaican         526\n",
       "russian          489\n",
       "brazilian        467\n",
       "Name: cuisine, dtype: int64"
      ]
     },
     "execution_count": 5,
     "metadata": {},
     "output_type": "execute_result"
    }
   ],
   "source": [
    "df.cuisine.value_counts()"
   ]
  },
  {
   "cell_type": "code",
   "execution_count": 15,
   "metadata": {},
   "outputs": [
    {
     "data": {
      "image/png": "[encoded data removed]",
      "text/plain": [
       "<matplotlib.figure.Figure at 0x11a65ce80>"
      ]
     },
     "metadata": {},
     "output_type": "display_data"
    }
   ],
   "source": [
    "df.cuisine.hist()\n",
    "plt.size = 200"
   ]
  },
  {
   "cell_type": "markdown",
   "metadata": {},
   "source": [
    "This dataset has a nice distripution of cuisines. The ingredient lists already has ingredient amounts removed."
   ]
  },
  {
   "cell_type": "markdown",
   "metadata": {},
   "source": [
    "## 2. Flatten Data\n",
    "To make preprocessing easier, make a dataframe with one ingredient per row"
   ]
  },
  {
   "cell_type": "code",
   "execution_count": 31,
   "metadata": {
    "collapsed": true
   },
   "outputs": [],
   "source": [
    "#create the data frame\n",
    "ingredients = pd.DataFrame({'cuisine': [], 'id': [], 'ingredient': []})"
   ]
  },
  {
   "cell_type": "code",
   "execution_count": 32,
   "metadata": {},
   "outputs": [
    {
     "data": {
      "text/plain": [
       "cuisine       float64\n",
       "id              int64\n",
       "ingredient    float64\n",
       "dtype: object"
      ]
     },
     "execution_count": 32,
     "metadata": {},
     "output_type": "execute_result"
    }
   ],
   "source": [
    "ingredients['id'] = ingredients['id'].astype(int) \n",
    "ingredients.dtypes"
   ]
  },
  {
   "cell_type": "code",
   "execution_count": 34,
   "metadata": {},
   "outputs": [
    {
     "name": "stdout",
     "output_type": "stream",
     "text": [
      "0 greek ['romaine lettuce', 'black olives', 'grape tomatoes', 'garlic', 'pepper', 'purple onion', 'seasoning', 'garbanzo beans', 'feta cheese crumbles']\n",
      "1000 italian ['marinara sauce', 'goat cheese', 'minced garlic', 'salt', 'ground lamb', 'roasted red peppers', 'chopped onion', 'black pepper', 'refrigerated pizza dough', 'italian seasoning']\n",
      "2000 filipino ['sea salt', 'annatto powder', 'cooking oil', 'beef broth', 'bok choy', 'chinese eggplants', 'peanut butter', 'onions', 'beef shank', 'garlic', 'green beans']\n",
      "3000 greek ['olive oil', 'butter', 'dried oregano', 'chicken stock', 'bay leaves', 'garlic', 'salt and ground black pepper', 'red wine', 'chicken', 'tomato sauce', 'shallots', 'fresh parsley']\n",
      "4000 indian ['water', 'flour', 'green chilies', 'nuts', 'curry leaves', 'milk', 'salt', 'ground cardamom', 'sweetener', 'buttermilk', 'oil', 'cumin', 'sugar', 'millet', 'cilantro leaves', 'ghee']\n",
      "5000 moroccan ['mint sprigs', 'sugar', 'green tea']\n",
      "6000 southern_us ['tomatoes', 'freshly ground pepper', 'salt', 'olive oil', 'okra']\n",
      "7000 spanish ['water', 'pork tenderloin', 'extra-virgin olive oil', 'smoked paprika', 'dried oregano', 'olive oil', 'dry white wine', 'all-purpose flour', 'serrano ham', 'tomatoes', 'large eggs', 'baking powder', 'garlic cloves', 'fresh parsley', 'sweet onion', 'cooking spray', 'salt', 'red bell pepper', 'saffron']\n",
      "8000 indian ['daikon', 'cumin', 'chaat masala', 'lime juice']\n",
      "9000 filipino ['soy sauce', 'vinegar', 'onions', 'water', 'garlic', 'whole peppercorn', 'laurel leaves', 'salt', 'pork belly', 'cooking oil', 'chicken']\n",
      "10000 italian ['romano cheese', 'salt', 'reduced fat milk', 'walnut halves', 'linguine', 'ground black pepper', 'garlic cloves']\n",
      "11000 chinese ['jasmine rice', 'ground black pepper', 'star anise', 'bok choy', 'dark soy sauce', 'sesame seeds', 'large garlic cloves', 'plums', 'sugar', 'fresh ginger root', 'sea salt', 'rice vinegar', 'honey', 'pork tenderloin', 'thai chile', 'onions']\n",
      "12000 filipino ['butter', 'brown sugar', 'orange juice', 'satsuma imo']\n",
      "13000 italian ['black pepper', 'sea salt', 'parmigiano reggiano cheese', 'penne rigate', 'olive oil', 'anchovy fillets', 'tomatoes', 'red pepper flakes', 'flat leaf parsley']\n",
      "14000 mexican ['cheese', 'chopped cilantro fresh', 'barbecue sauce', 'fajita size flour tortillas', 'barbecued pork', 'sliced green onions', 'green onions', 'sour cream']\n",
      "15000 italian ['white wine', 'garlic cloves', 'crushed red pepper flakes', 'spaghetti', 'kosher salt', 'flat leaf parsley', 'cockles', 'extra-virgin olive oil']\n",
      "16000 cajun_creole ['small red beans', 'bacon', 'purple onion', 'cooked rice', 'Sriracha', 'garlic', 'smoked ham hocks', 'pepper', 'stout', 'salt', 'chicken broth', 'olive oil', 'brats', 'green pepper']\n",
      "17000 japanese ['fish sauce', 'egg roll wrappers', 'vegetable oil', 'beansprouts', 'green cabbage', 'fresh ginger', 'green onions', 'red bell pepper', 'soy sauce', 'mirin', 'rice vinegar', 'cooked shrimp', 'dashi', 'large eggs', 'carrots', 'noodles']\n",
      "18000 greek ['low-fat greek yogurt', 'carrots', 'fresh dill', 'vegetables', 'reduced fat mayonnaise', 'black pepper', 'hot sauce', 'garlic powder', 'feta cheese crumbles']\n",
      "19000 korean ['ground black pepper', 'green onions', 'apple juice', 'chinese black vinegar', 'water', 'mirin', 'extra-virgin olive oil', 'corn starch', 'fresh ginger', 'boneless beef short ribs', 'garlic', 'toasted sesame oil', 'low sodium soy sauce', 'asian pear', 'ponzu', 'dark brown sugar', 'cooked white rice']\n",
      "20000 moroccan ['saffron threads', 'quinces', 'red currant jelly', 'onions', 'celery ribs', 'vegetable oil', 'dry red wine', 'dried cranberries', 'veal demi-glace', 'lemon', 'garlic cloves', 'juniper berries', 'cinnamon', 'lamb shoulder']\n",
      "21000 mexican ['olive oil', 'salsa', 'green bell pepper', 'mackerel fillets', 'onions', 'flour tortillas', 'salad dressing', 'shredded cheddar cheese', 'all-purpose flour']\n",
      "22000 french ['shredded cheddar cheese', 'beef gravy', 'french fri frozen']\n",
      "23000 mexican ['corn', 'rice', 'pepper', 'cheese', 'cilantro', 'water', 'Wolf Brand Chili']\n",
      "24000 italian ['fresh basil', 'olive oil', 'salt', 'pitted black olives', 'dry white wine', 'chicken thighs', 'canned low sodium chicken broth', 'ground black pepper', 'onions', 'fresh rosemary', 'crushed tomatoes', 'garlic', 'dried rosemary']\n",
      "25000 mexican ['cotija', 'cracker crumbs', 'salt', 'chipotles in adobo', 'ground cumin', 'chicken broth', 'kosher salt', 'diced tomatoes', 'shredded zucchini', 'ground beef', 'bread', 'black pepper', 'chili powder', 'yellow onion', 'chopped cilantro', 'eggs', 'lime juice', 'garlic', 'ground allspice', 'oregano']\n",
      "26000 chinese ['pepper', 'ginger', 'wonton wrappers', 'salt', 'green onions', 'teriyaki sauce', 'sugar', 'ground pork']\n",
      "27000 indian ['milk', 'saffron', 'cardamom pods', 'almonds', 'sugar', 'basmati rice']\n",
      "28000 spanish ['fat free yogurt', 'salt', 'sugar', 'dry yeast', 'bread flour', 'green olives', 'olive oil', 'cornmeal', 'warm water', 'cooking spray', 'dried rosemary']\n",
      "29000 korean ['fishcake', 'sesame seeds', 'garlic', 'sugar', 'water', 'rice cakes', 'cabbage', 'pepper', 'chili paste', 'kelp', 'ketchup', 'anchovies', 'leeks']\n",
      "30000 italian ['semolina', 'salt', 'powdered sugar', 'large eggs', 'orange zest', 'unsalted butter', 'cornmeal', 'dried currants', 'flour']\n",
      "31000 korean ['low sodium soy sauce', 'red beets', 'hanger steak', 'seedless watermelon', 'garlic cloves', 'kosher salt', 'sesame oil', 'ginger', 'corn syrup', 'sugar', 'radishes', 'kohlrabi', 'rice vinegar', 'golden beets', 'pepper', 'daikon', 'white wine vinegar', 'black radish']\n",
      "32000 mexican ['white onion', 'serrano chile', 'fresh lime juice', 'kosher salt', 'tomatoes', 'chopped cilantro fresh']\n",
      "33000 italian ['chiles', 'peas', 'medium-grain rice', 'ham hock', 'shallots', 'salt', 'scallions', 'water', 'extra-virgin olive oil', 'freshly ground pepper', 'bay leaf', 'chopped fresh thyme', 'crabmeat', 'fresh lemon juice']\n",
      "34000 mexican ['fresh cilantro', 'non-fat sour cream', 'peppercorns', 'tomatillos', 'bone-in chicken breasts', 'monterey jack', 'vegetable oil', 'salt', 'serrano chile', 'garlic', 'corn tortillas']\n",
      "35000 cajun_creole ['butter', 'Sargento® Artisan Blends® Shredded Parmesan Cheese', 'boneless skinless chicken breasts', 'heavy whipping cream', 'penne pasta', 'cajun seasoning', 'chopped parsley']\n",
      "36000 greek ['diced tomatoes', 'feta cheese crumbles', 'green onions', 'garlic', 'hummus', 'greek seasoning', 'kalamata', 'cucumber', 'lemon', 'cream cheese', 'fresh parsley']\n",
      "37000 indian ['sugar', 'coriander seeds', 'salt', 'cinnamon sticks', 'onions', 'fennel seeds', 'fresh curry leaves', 'meat', 'cardamom pods', 'dried red chile peppers', 'ginger paste', 'garlic paste', 'water', 'vegetable oil', 'cumin seed', 'ghee', 'warm water', 'garam masala', 'tamarind paste', 'coconut milk', 'ground turmeric']\n",
      "38000 japanese ['salmon fillets', 'fresh lemon', 'japanese eggplants', 'miso paste', 'chives', 'sugar', 'peeled fresh ginger', 'sake', 'mirin', 'canola oil']\n",
      "39000 korean ['rice syrup', 'starch', 'Gochujang base', 'eggs', 'ground black pepper', 'garlic', 'chicken', 'baking soda', 'apple cider vinegar', 'canola oil', 'ketchup', 'flour', 'salt', 'sweet rice flour']\n"
     ]
    }
   ],
   "source": [
    "#populate the dataframe\n",
    "for i, row in df.iterrows():\n",
    "    for item in row.ingredients:\n",
    "        #append is slow; this would be faster building a dict first\n",
    "        ingredients = ingredients.append({'cuisine': row.cuisine\n",
    "                                          ,'id': row.id\n",
    "                                          ,'ingredient': item},\n",
    "                                         ignore_index=True)\n",
    "    if i%1000 == 0:\n",
    "       print (i, row.cuisine, row.ingredients)\n",
    "\n",
    "ingredients.to_csv('ingredients.csv', index_label = False)\n",
    "        "
   ]
  },
  {
   "cell_type": "code",
   "execution_count": 39,
   "metadata": {},
   "outputs": [
    {
     "data": {
      "text/plain": [
       "(428275, 3)"
      ]
     },
     "execution_count": 39,
     "metadata": {},
     "output_type": "execute_result"
    }
   ],
   "source": [
    "ingredients.shape"
   ]
  },
  {
   "cell_type": "code",
   "execution_count": 36,
   "metadata": {},
   "outputs": [
    {
     "data": {
      "text/html": [
       "<div>\n",
       "<style>\n",
       "    .dataframe thead tr:only-child th {\n",
       "        text-align: right;\n",
       "    }\n",
       "\n",
       "    .dataframe thead th {\n",
       "        text-align: left;\n",
       "    }\n",
       "\n",
       "    .dataframe tbody tr th {\n",
       "        vertical-align: top;\n",
       "    }\n",
       "</style>\n",
       "<table border=\"1\" class=\"dataframe\">\n",
       "  <thead>\n",
       "    <tr style=\"text-align: right;\">\n",
       "      <th></th>\n",
       "      <th>cuisine</th>\n",
       "      <th>id</th>\n",
       "      <th>ingredient</th>\n",
       "    </tr>\n",
       "  </thead>\n",
       "  <tbody>\n",
       "    <tr>\n",
       "      <th>0</th>\n",
       "      <td>greek</td>\n",
       "      <td>10259</td>\n",
       "      <td>romaine lettuce</td>\n",
       "    </tr>\n",
       "    <tr>\n",
       "      <th>1</th>\n",
       "      <td>greek</td>\n",
       "      <td>10259</td>\n",
       "      <td>black olives</td>\n",
       "    </tr>\n",
       "    <tr>\n",
       "      <th>2</th>\n",
       "      <td>greek</td>\n",
       "      <td>10259</td>\n",
       "      <td>grape tomatoes</td>\n",
       "    </tr>\n",
       "    <tr>\n",
       "      <th>3</th>\n",
       "      <td>greek</td>\n",
       "      <td>10259</td>\n",
       "      <td>garlic</td>\n",
       "    </tr>\n",
       "    <tr>\n",
       "      <th>4</th>\n",
       "      <td>greek</td>\n",
       "      <td>10259</td>\n",
       "      <td>pepper</td>\n",
       "    </tr>\n",
       "  </tbody>\n",
       "</table>\n",
       "</div>"
      ],
      "text/plain": [
       "  cuisine     id       ingredient\n",
       "0   greek  10259  romaine lettuce\n",
       "1   greek  10259     black olives\n",
       "2   greek  10259   grape tomatoes\n",
       "3   greek  10259           garlic\n",
       "4   greek  10259           pepper"
      ]
     },
     "execution_count": 36,
     "metadata": {},
     "output_type": "execute_result"
    }
   ],
   "source": [
    "ingredients.head()"
   ]
  },
  {
   "cell_type": "markdown",
   "metadata": {},
   "source": [
    "## 3. Build a Standardized List of Ingredients "
   ]
  },
  {
   "cell_type": "code",
   "execution_count": 232,
   "metadata": {
    "collapsed": true
   },
   "outputs": [],
   "source": [
    "ingredients.to_csv('ingredients_before_preprocess.csv', index_label = False)"
   ]
  },
  {
   "cell_type": "markdown",
   "metadata": {},
   "source": [
    "Apply the preprocess function to each ingredient in the dataframe.\n",
    "\n",
    "Then pull out the 1000 most common ingredients and save to a CSV.\n",
    "\n",
    "Update the preprocess function based on visual inspection of the CSV,\n",
    "to remove more extraneous terms.\n",
    "\n",
    "Repeat until the we have reduced the ingredient list to almost all one and two word terms.\n"
   ]
  },
  {
   "cell_type": "code",
   "execution_count": 456,
   "metadata": {
    "collapsed": true
   },
   "outputs": [],
   "source": [
    "ingredients = pd.read_csv('ingredients_before_preprocess.csv')"
   ]
  },
  {
   "cell_type": "code",
   "execution_count": 457,
   "metadata": {},
   "outputs": [
    {
     "data": {
      "text/html": [
       "<div>\n",
       "<style>\n",
       "    .dataframe thead tr:only-child th {\n",
       "        text-align: right;\n",
       "    }\n",
       "\n",
       "    .dataframe thead th {\n",
       "        text-align: left;\n",
       "    }\n",
       "\n",
       "    .dataframe tbody tr th {\n",
       "        vertical-align: top;\n",
       "    }\n",
       "</style>\n",
       "<table border=\"1\" class=\"dataframe\">\n",
       "  <thead>\n",
       "    <tr style=\"text-align: right;\">\n",
       "      <th></th>\n",
       "      <th>cuisine</th>\n",
       "      <th>id</th>\n",
       "      <th>ingredient</th>\n",
       "    </tr>\n",
       "  </thead>\n",
       "  <tbody>\n",
       "    <tr>\n",
       "      <th>0</th>\n",
       "      <td>greek</td>\n",
       "      <td>10259</td>\n",
       "      <td>romaine lettuce</td>\n",
       "    </tr>\n",
       "    <tr>\n",
       "      <th>1</th>\n",
       "      <td>greek</td>\n",
       "      <td>10259</td>\n",
       "      <td>black olives</td>\n",
       "    </tr>\n",
       "    <tr>\n",
       "      <th>2</th>\n",
       "      <td>greek</td>\n",
       "      <td>10259</td>\n",
       "      <td>grape tomatoes</td>\n",
       "    </tr>\n",
       "    <tr>\n",
       "      <th>3</th>\n",
       "      <td>greek</td>\n",
       "      <td>10259</td>\n",
       "      <td>garlic</td>\n",
       "    </tr>\n",
       "    <tr>\n",
       "      <th>4</th>\n",
       "      <td>greek</td>\n",
       "      <td>10259</td>\n",
       "      <td>pepper</td>\n",
       "    </tr>\n",
       "  </tbody>\n",
       "</table>\n",
       "</div>"
      ],
      "text/plain": [
       "  cuisine     id       ingredient\n",
       "0   greek  10259  romaine lettuce\n",
       "1   greek  10259     black olives\n",
       "2   greek  10259   grape tomatoes\n",
       "3   greek  10259           garlic\n",
       "4   greek  10259           pepper"
      ]
     },
     "execution_count": 457,
     "metadata": {},
     "output_type": "execute_result"
    }
   ],
   "source": [
    "ingredients.head()"
   ]
  },
  {
   "cell_type": "code",
   "execution_count": 458,
   "metadata": {
    "collapsed": true
   },
   "outputs": [],
   "source": [
    "def preprocess (strng):\n",
    "    #descriptive words that should be stripped out\n",
    "    replace_list = ['peeled', 'fresh', 'ground', 'chopped', 'seeds', 'frozen',\n",
    "                    'plain', 'light','heavy','dark', 'roasted', 'diced','cooked',\n",
    "                    'pitted', 'canned', 'unsweeetened', 'sweetened', 'low',\n",
    "                    'reduced','sodium','skim', 'part-skim', 'whole', 'low-fat',\n",
    "                    'extra', 'extra-virgin','leaves', 'leaf', 'leaves','crumbles',\n",
    "                    'powder','yellow', 'kosher', 'boneless', 'skinless', 'grilled',\n",
    "                    'shredded', 'peeled', 'coarse', 'reduced', 'all-purpose', 'red',\n",
    "                    'white', 'oven-ready', 'reduced-fat', 'thread', 'dried', 'dry',\n",
    "                    'fat', 'free', 'finely', 'firmly', 'freshly', '1%', '2%', 'for',\n",
    "                    'dusting', 'seasoned', 'sliced', 'slivered', 'soft', 'softened',\n",
    "                    'small', 'toasted', 'unsweetened', 'pod', 'pods','cube','granule',\n",
    "                    'floret','fine', 'baby', 'lower', 'lump', 'halves', 'lowfat',\n",
    "                    'slices', 'all', 'purpose', 'unbleached', 'bone-in', 'granule',\n",
    "                    'whole-milk', 'asian', 'sprigs', 'stem', 'cubes', 'granules', 'in',\n",
    "                    'crumbled', 'crushed', 'blend', 'boneless', 'bottled', 'florets',\n",
    "                    'california', 'chunky', 'flavored', 'cooking', 'baked', 'thai',\n",
    "                    'store', 'bought', 'steamed', 'stewed', 'unsalted', 'unflavored',\n",
    "                    'vietnamese', 'organic', 'cap', 'concentrate', 'packed', 'boiling',\n",
    "                    'deveined', 'fat-free', 'self', 'rising', 'self-rising', 'instant',\n",
    "                    'of', 'grated'\n",
    "                   ]\n",
    "    return_strng = ''\n",
    "    strng = strng.lower()\n",
    "    for w in strng.split():\n",
    "        if w in replace_list:\n",
    "            w = ''\n",
    "        else:\n",
    "            #remove pluralizations\n",
    "            w = re.sub('oes$', 'o', w)\n",
    "            w = re.sub('s$', '', w)           \n",
    "        return_strng += w + ' '\n",
    "        \n",
    "    #remove formatting characters, and convert alternate spellings or\n",
    "    #anomolous data to the a more common usage.\n",
    "    return_strng = re.sub('\"', '', return_strng)\n",
    "    return_strng = re.sub(',', '', return_strng)\n",
    "    return_strng = re.sub('chilie', 'chile', return_strng)\n",
    "    return_strng = re.sub('chillie', 'chile', return_strng)\n",
    "    return_strng = re.sub('yoghurt', 'yogurt', return_strng)\n",
    "    return_strng = re.sub('won ton ', 'wonton', return_strng)\n",
    "    return_strng = re.sub('whipping', 'whipped', return_strng)\n",
    "    return_strng = re.sub('anchovie', 'anchovy', return_strng)\n",
    "    return_strng = re.sub('artichok heart marin', 'artichoke heart', return_strng)\n",
    "    return_strng = re.sub('colouring', 'coloring', return_strng)\n",
    "    return_strng = re.sub('hellmann\\' or best food real mayonnai', 'mayonaise', return_strng)\n",
    "    return_strng = re.sub('mayonnaise', 'mayonaise', return_strng)\n",
    "    return_strng = re.sub('wontonwrapper', 'wonton wrapper', return_strng)\n",
    "    return_strng = re.sub('filet', 'fillet', return_strng) \n",
    "    return_strng = re.sub('-', ' ', return_strng) \n",
    "    return_strng = return_strng.strip()\n",
    "    return_strng = re.sub('  ', ' ', return_strng)\n",
    "    return(return_strng)"
   ]
  },
  {
   "cell_type": "code",
   "execution_count": 460,
   "metadata": {
    "collapsed": true
   },
   "outputs": [],
   "source": [
    "ingredients['ingredient2'] = ingredients['ingredient'].apply(preprocess)"
   ]
  },
  {
   "cell_type": "code",
   "execution_count": 461,
   "metadata": {},
   "outputs": [
    {
     "data": {
      "text/html": [
       "<div>\n",
       "<style>\n",
       "    .dataframe thead tr:only-child th {\n",
       "        text-align: right;\n",
       "    }\n",
       "\n",
       "    .dataframe thead th {\n",
       "        text-align: left;\n",
       "    }\n",
       "\n",
       "    .dataframe tbody tr th {\n",
       "        vertical-align: top;\n",
       "    }\n",
       "</style>\n",
       "<table border=\"1\" class=\"dataframe\">\n",
       "  <thead>\n",
       "    <tr style=\"text-align: right;\">\n",
       "      <th></th>\n",
       "      <th>cuisine</th>\n",
       "      <th>id</th>\n",
       "      <th>ingredient</th>\n",
       "      <th>ingredient2</th>\n",
       "    </tr>\n",
       "  </thead>\n",
       "  <tbody>\n",
       "    <tr>\n",
       "      <th>0</th>\n",
       "      <td>greek</td>\n",
       "      <td>10259</td>\n",
       "      <td>romaine lettuce</td>\n",
       "      <td>romaine lettuce</td>\n",
       "    </tr>\n",
       "    <tr>\n",
       "      <th>1</th>\n",
       "      <td>greek</td>\n",
       "      <td>10259</td>\n",
       "      <td>black olives</td>\n",
       "      <td>black olive</td>\n",
       "    </tr>\n",
       "    <tr>\n",
       "      <th>2</th>\n",
       "      <td>greek</td>\n",
       "      <td>10259</td>\n",
       "      <td>grape tomatoes</td>\n",
       "      <td>grape tomato</td>\n",
       "    </tr>\n",
       "    <tr>\n",
       "      <th>3</th>\n",
       "      <td>greek</td>\n",
       "      <td>10259</td>\n",
       "      <td>garlic</td>\n",
       "      <td>garlic</td>\n",
       "    </tr>\n",
       "    <tr>\n",
       "      <th>4</th>\n",
       "      <td>greek</td>\n",
       "      <td>10259</td>\n",
       "      <td>pepper</td>\n",
       "      <td>pepper</td>\n",
       "    </tr>\n",
       "  </tbody>\n",
       "</table>\n",
       "</div>"
      ],
      "text/plain": [
       "  cuisine     id       ingredient      ingredient2\n",
       "0   greek  10259  romaine lettuce  romaine lettuce\n",
       "1   greek  10259     black olives      black olive\n",
       "2   greek  10259   grape tomatoes     grape tomato\n",
       "3   greek  10259           garlic           garlic\n",
       "4   greek  10259           pepper           pepper"
      ]
     },
     "execution_count": 461,
     "metadata": {},
     "output_type": "execute_result"
    }
   ],
   "source": [
    "ingredients.head()"
   ]
  },
  {
   "cell_type": "code",
   "execution_count": 462,
   "metadata": {},
   "outputs": [
    {
     "data": {
      "text/html": [
       "<div>\n",
       "<style>\n",
       "    .dataframe thead tr:only-child th {\n",
       "        text-align: right;\n",
       "    }\n",
       "\n",
       "    .dataframe thead th {\n",
       "        text-align: left;\n",
       "    }\n",
       "\n",
       "    .dataframe tbody tr th {\n",
       "        vertical-align: top;\n",
       "    }\n",
       "</style>\n",
       "<table border=\"1\" class=\"dataframe\">\n",
       "  <thead>\n",
       "    <tr style=\"text-align: right;\">\n",
       "      <th></th>\n",
       "      <th>cuisine</th>\n",
       "      <th>id</th>\n",
       "      <th>ingredient2</th>\n",
       "    </tr>\n",
       "    <tr>\n",
       "      <th>ingredient</th>\n",
       "      <th></th>\n",
       "      <th></th>\n",
       "      <th></th>\n",
       "    </tr>\n",
       "  </thead>\n",
       "  <tbody>\n",
       "    <tr>\n",
       "      <th>asian</th>\n",
       "      <td>1</td>\n",
       "      <td>1</td>\n",
       "      <td>1</td>\n",
       "    </tr>\n",
       "    <tr>\n",
       "      <th>chopped leaves</th>\n",
       "      <td>7</td>\n",
       "      <td>7</td>\n",
       "      <td>7</td>\n",
       "    </tr>\n",
       "    <tr>\n",
       "      <th>chunky</th>\n",
       "      <td>8</td>\n",
       "      <td>8</td>\n",
       "      <td>8</td>\n",
       "    </tr>\n",
       "    <tr>\n",
       "      <th>cooking fat</th>\n",
       "      <td>7</td>\n",
       "      <td>7</td>\n",
       "      <td>7</td>\n",
       "    </tr>\n",
       "    <tr>\n",
       "      <th>crumbles</th>\n",
       "      <td>11</td>\n",
       "      <td>11</td>\n",
       "      <td>11</td>\n",
       "    </tr>\n",
       "    <tr>\n",
       "      <th>extra</th>\n",
       "      <td>1</td>\n",
       "      <td>1</td>\n",
       "      <td>1</td>\n",
       "    </tr>\n",
       "    <tr>\n",
       "      <th>fat</th>\n",
       "      <td>92</td>\n",
       "      <td>92</td>\n",
       "      <td>92</td>\n",
       "    </tr>\n",
       "    <tr>\n",
       "      <th>florets</th>\n",
       "      <td>44</td>\n",
       "      <td>44</td>\n",
       "      <td>44</td>\n",
       "    </tr>\n",
       "    <tr>\n",
       "      <th>leaves</th>\n",
       "      <td>93</td>\n",
       "      <td>93</td>\n",
       "      <td>93</td>\n",
       "    </tr>\n",
       "    <tr>\n",
       "      <th>red</th>\n",
       "      <td>10</td>\n",
       "      <td>10</td>\n",
       "      <td>10</td>\n",
       "    </tr>\n",
       "    <tr>\n",
       "      <th>seeds</th>\n",
       "      <td>130</td>\n",
       "      <td>130</td>\n",
       "      <td>130</td>\n",
       "    </tr>\n",
       "  </tbody>\n",
       "</table>\n",
       "</div>"
      ],
      "text/plain": [
       "                cuisine   id  ingredient2\n",
       "ingredient                               \n",
       "asian                 1    1            1\n",
       "chopped leaves        7    7            7\n",
       "chunky                8    8            8\n",
       "cooking fat           7    7            7\n",
       "crumbles             11   11           11\n",
       "extra                 1    1            1\n",
       "fat                  92   92           92\n",
       "florets              44   44           44\n",
       "leaves               93   93           93\n",
       "red                  10   10           10\n",
       "seeds               130  130          130"
      ]
     },
     "execution_count": 462,
     "metadata": {},
     "output_type": "execute_result"
    }
   ],
   "source": [
    "#check for records made null by preprocessing\n",
    "ingredients[ingredients['ingredient2']==''].groupby('ingredient').count()"
   ]
  },
  {
   "cell_type": "markdown",
   "metadata": {},
   "source": [
    "Since the original recipe ingredient in all of these cases was not very descriptive,\n",
    "making all of these into nulls is ok."
   ]
  },
  {
   "cell_type": "code",
   "execution_count": 463,
   "metadata": {
    "collapsed": true
   },
   "outputs": [],
   "source": [
    "#drop nulls, keep only preprocessed ingredients\n",
    "ingredients.dropna(inplace=True)\n",
    "ingredients.drop(['ingredient'], axis=1, inplace=True)\n",
    "ingredients.rename(columns={'ingredient2':'ingredient'}, inplace=True) "
   ]
  },
  {
   "cell_type": "code",
   "execution_count": 464,
   "metadata": {},
   "outputs": [
    {
     "data": {
      "text/html": [
       "<div>\n",
       "<style>\n",
       "    .dataframe thead tr:only-child th {\n",
       "        text-align: right;\n",
       "    }\n",
       "\n",
       "    .dataframe thead th {\n",
       "        text-align: left;\n",
       "    }\n",
       "\n",
       "    .dataframe tbody tr th {\n",
       "        vertical-align: top;\n",
       "    }\n",
       "</style>\n",
       "<table border=\"1\" class=\"dataframe\">\n",
       "  <thead>\n",
       "    <tr style=\"text-align: right;\">\n",
       "      <th></th>\n",
       "      <th>cuisine</th>\n",
       "      <th>id</th>\n",
       "    </tr>\n",
       "    <tr>\n",
       "      <th>ingredient</th>\n",
       "      <th></th>\n",
       "      <th></th>\n",
       "    </tr>\n",
       "  </thead>\n",
       "  <tbody>\n",
       "    <tr>\n",
       "      <th></th>\n",
       "      <td>404</td>\n",
       "      <td>404</td>\n",
       "    </tr>\n",
       "  </tbody>\n",
       "</table>\n",
       "</div>"
      ],
      "text/plain": [
       "            cuisine   id\n",
       "ingredient              \n",
       "                404  404"
      ]
     },
     "execution_count": 464,
     "metadata": {},
     "output_type": "execute_result"
    }
   ],
   "source": [
    "ingredients[ingredients['ingredient']==''].groupby('ingredient').count()  #why are there still nulls?"
   ]
  },
  {
   "cell_type": "code",
   "execution_count": 465,
   "metadata": {},
   "outputs": [
    {
     "data": {
      "text/html": [
       "<div>\n",
       "<style>\n",
       "    .dataframe thead tr:only-child th {\n",
       "        text-align: right;\n",
       "    }\n",
       "\n",
       "    .dataframe thead th {\n",
       "        text-align: left;\n",
       "    }\n",
       "\n",
       "    .dataframe tbody tr th {\n",
       "        vertical-align: top;\n",
       "    }\n",
       "</style>\n",
       "<table border=\"1\" class=\"dataframe\">\n",
       "  <thead>\n",
       "    <tr style=\"text-align: right;\">\n",
       "      <th></th>\n",
       "      <th>cuisine</th>\n",
       "      <th>id</th>\n",
       "      <th>ingredient</th>\n",
       "    </tr>\n",
       "  </thead>\n",
       "  <tbody>\n",
       "    <tr>\n",
       "      <th>0</th>\n",
       "      <td>greek</td>\n",
       "      <td>10259</td>\n",
       "      <td>romaine lettuce</td>\n",
       "    </tr>\n",
       "    <tr>\n",
       "      <th>1</th>\n",
       "      <td>greek</td>\n",
       "      <td>10259</td>\n",
       "      <td>black olive</td>\n",
       "    </tr>\n",
       "    <tr>\n",
       "      <th>2</th>\n",
       "      <td>greek</td>\n",
       "      <td>10259</td>\n",
       "      <td>grape tomato</td>\n",
       "    </tr>\n",
       "    <tr>\n",
       "      <th>3</th>\n",
       "      <td>greek</td>\n",
       "      <td>10259</td>\n",
       "      <td>garlic</td>\n",
       "    </tr>\n",
       "    <tr>\n",
       "      <th>4</th>\n",
       "      <td>greek</td>\n",
       "      <td>10259</td>\n",
       "      <td>pepper</td>\n",
       "    </tr>\n",
       "  </tbody>\n",
       "</table>\n",
       "</div>"
      ],
      "text/plain": [
       "  cuisine     id       ingredient\n",
       "0   greek  10259  romaine lettuce\n",
       "1   greek  10259      black olive\n",
       "2   greek  10259     grape tomato\n",
       "3   greek  10259           garlic\n",
       "4   greek  10259           pepper"
      ]
     },
     "execution_count": 465,
     "metadata": {},
     "output_type": "execute_result"
    }
   ],
   "source": [
    "ingredients.head()"
   ]
  },
  {
   "cell_type": "code",
   "execution_count": 466,
   "metadata": {
    "collapsed": true
   },
   "outputs": [],
   "source": [
    "#group all ingredients by cuisine\n",
    "i2 = ingredients.groupby(['cuisine','ingredient']).count().reset_index()"
   ]
  },
  {
   "cell_type": "code",
   "execution_count": 467,
   "metadata": {},
   "outputs": [
    {
     "data": {
      "text/plain": [
       "(22110, 3)"
      ]
     },
     "execution_count": 467,
     "metadata": {},
     "output_type": "execute_result"
    }
   ],
   "source": [
    "i2.shape"
   ]
  },
  {
   "cell_type": "code",
   "execution_count": 468,
   "metadata": {},
   "outputs": [
    {
     "data": {
      "text/html": [
       "<div>\n",
       "<style>\n",
       "    .dataframe thead tr:only-child th {\n",
       "        text-align: right;\n",
       "    }\n",
       "\n",
       "    .dataframe thead th {\n",
       "        text-align: left;\n",
       "    }\n",
       "\n",
       "    .dataframe tbody tr th {\n",
       "        vertical-align: top;\n",
       "    }\n",
       "</style>\n",
       "<table border=\"1\" class=\"dataframe\">\n",
       "  <thead>\n",
       "    <tr style=\"text-align: right;\">\n",
       "      <th></th>\n",
       "      <th>cuisine</th>\n",
       "      <th>ingredient</th>\n",
       "      <th>id</th>\n",
       "    </tr>\n",
       "  </thead>\n",
       "  <tbody>\n",
       "    <tr>\n",
       "      <th>0</th>\n",
       "      <td>brazilian</td>\n",
       "      <td></td>\n",
       "      <td>4</td>\n",
       "    </tr>\n",
       "    <tr>\n",
       "      <th>1</th>\n",
       "      <td>brazilian</td>\n",
       "      <td>acai juice</td>\n",
       "      <td>1</td>\n",
       "    </tr>\n",
       "    <tr>\n",
       "      <th>2</th>\n",
       "      <td>brazilian</td>\n",
       "      <td>active yeast</td>\n",
       "      <td>3</td>\n",
       "    </tr>\n",
       "    <tr>\n",
       "      <th>3</th>\n",
       "      <td>brazilian</td>\n",
       "      <td>adobo style seasoning</td>\n",
       "      <td>1</td>\n",
       "    </tr>\n",
       "    <tr>\n",
       "      <th>4</th>\n",
       "      <td>brazilian</td>\n",
       "      <td>agave nectar</td>\n",
       "      <td>4</td>\n",
       "    </tr>\n",
       "  </tbody>\n",
       "</table>\n",
       "</div>"
      ],
      "text/plain": [
       "     cuisine             ingredient  id\n",
       "0  brazilian                          4\n",
       "1  brazilian             acai juice   1\n",
       "2  brazilian           active yeast   3\n",
       "3  brazilian  adobo style seasoning   1\n",
       "4  brazilian           agave nectar   4"
      ]
     },
     "execution_count": 468,
     "metadata": {},
     "output_type": "execute_result"
    }
   ],
   "source": [
    "i2.head()"
   ]
  },
  {
   "cell_type": "code",
   "execution_count": 469,
   "metadata": {
    "collapsed": true
   },
   "outputs": [],
   "source": [
    "#group all ingredients together\n",
    "i3 = ingredients.groupby(['ingredient']).count().reset_index()\n",
    "i3.drop(['id'], axis=1, inplace=True)\n",
    "i3.rename(columns={'cuisine':'count'}, inplace=True) "
   ]
  },
  {
   "cell_type": "code",
   "execution_count": 470,
   "metadata": {
    "collapsed": true
   },
   "outputs": [],
   "source": [
    "#save the top 1000 ingredients to csv\n",
    "i3.sort_values('count', ascending=False).head(1000)[['count','ingredient']]\\\n",
    ".sort_values('ingredient').to_csv('ingredient_counts.csv',index_label = False)"
   ]
  },
  {
   "cell_type": "markdown",
   "metadata": {
    "collapsed": true
   },
   "source": [
    "The final version of ingredient_counts will be used as a custom vocabulary for vectorizing the data."
   ]
  }
 ],
 "metadata": {
  "kernelspec": {
   "display_name": "Python [default]",
   "language": "python",
   "name": "python3"
  },
  "language_info": {
   "codemirror_mode": {
    "name": "ipython",
    "version": 3
   },
   "file_extension": ".py",
   "mimetype": "text/x-python",
   "name": "python",
   "nbconvert_exporter": "python",
   "pygments_lexer": "ipython3",
   "version": "3.6.4"
  }
 },
 "nbformat": 4,
 "nbformat_minor": 2
}
